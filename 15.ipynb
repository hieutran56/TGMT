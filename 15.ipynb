{
 "cells": [
  {
   "cell_type": "code",
   "execution_count": 1,
   "id": "1b578b12-6224-4aef-9944-a53383ba0928",
   "metadata": {},
   "outputs": [],
   "source": [
    "# Giai he phuong trinh tuyen tinh\n",
    "from scipy import linalg\n",
    "import numpy as np"
   ]
  },
  {
   "cell_type": "code",
   "execution_count": 2,
   "id": "3a2644b0-7e31-4a1c-92e8-cd2b0486b236",
   "metadata": {},
   "outputs": [
    {
     "name": "stdout",
     "output_type": "stream",
     "text": [
      "Ket qua:  [ 3. -1.]\n"
     ]
    }
   ],
   "source": [
    "# Dinh nghia he phuong trinh\n",
    "A = np.array([[2, 1], [3, 2]])\n",
    "b = np.array([5, 7])\n",
    "\n",
    "# Giai he phuong trinh tuyen tinh\n",
    "x = linalg.solve(A, b)\n",
    "print(\"Ket qua: \",x)"
   ]
  },
  {
   "cell_type": "code",
   "execution_count": 3,
   "id": "cf2480bb-a04e-430a-af6a-723d0caec2dc",
   "metadata": {},
   "outputs": [
    {
     "name": "stdout",
     "output_type": "stream",
     "text": [
      "Tich phan f(x) tu 0 den 1:  (0.33333333333333337, 3.700743415417189e-15)\n"
     ]
    }
   ],
   "source": [
    "# Tinh tich phan cua 1 ham so\n",
    "from scipy import integrate\n",
    "# Dinh nghia ham so f(x) = x^2\n",
    "def my_function(x):\n",
    "    return x**2\n",
    "# Tinh tich phan cua f(x) tu 0 den 1\n",
    "integral = integrate.quad(my_function, 0, 1);\n",
    "print(\"Tich phan f(x) tu 0 den 1: \", integral)"
   ]
  },
  {
   "cell_type": "code",
   "execution_count": 4,
   "id": "d1bfb6b4-0833-4af2-8b91-587e01c5c158",
   "metadata": {},
   "outputs": [
    {
     "name": "stdout",
     "output_type": "stream",
     "text": [
      "Gia tri rieng:  [3.73205081+0.j 0.26794919+0.j]\n",
      "Vecto rieng:  [[ 0.5       -0.5      ]\n",
      " [ 0.8660254  0.8660254]]\n"
     ]
    }
   ],
   "source": [
    "# Tinh gia tri rieng va vecto rieng cua 1 ma tran\n",
    "evals, evecs = linalg.eig(A)\n",
    "\n",
    "print(\"Gia tri rieng: \", evals)\n",
    "print(\"Vecto rieng: \", evecs)"
   ]
  }
 ],
 "metadata": {
  "kernelspec": {
   "display_name": "Python 3 (ipykernel)",
   "language": "python",
   "name": "python3"
  },
  "language_info": {
   "codemirror_mode": {
    "name": "ipython",
    "version": 3
   },
   "file_extension": ".py",
   "mimetype": "text/x-python",
   "name": "python",
   "nbconvert_exporter": "python",
   "pygments_lexer": "ipython3",
   "version": "3.12.4"
  }
 },
 "nbformat": 4,
 "nbformat_minor": 5
}
