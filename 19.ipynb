{
 "cells": [
  {
   "cell_type": "code",
   "execution_count": 1,
   "id": "7b47ab1b-2aa1-4222-b429-87da5a7a6db9",
   "metadata": {},
   "outputs": [],
   "source": [
    "#!pip install opencv-python"
   ]
  },
  {
   "cell_type": "code",
   "execution_count": 2,
   "id": "d2a46a41-9225-4093-9fcf-b3547161f3a3",
   "metadata": {},
   "outputs": [],
   "source": [
    "def display (title, img):\n",
    "    cv2.imshow(title, img)\n",
    "    # Cho 1 khoang thoi gian\n",
    "    cv2.waitKey(0)\n",
    "    # Dong window\n",
    "    cv2.destroyWindow(title)"
   ]
  },
  {
   "cell_type": "code",
   "execution_count": 3,
   "id": "a51a43b3-9eaf-4457-9e23-ddc269cba12d",
   "metadata": {},
   "outputs": [],
   "source": [
    "# Import thu vien\n",
    "import cv2 "
   ]
  },
  {
   "cell_type": "code",
   "execution_count": 4,
   "id": "b6c5f19e-4ccd-440a-80d7-c2316e1ae6ba",
   "metadata": {},
   "outputs": [
    {
     "name": "stdout",
     "output_type": "stream",
     "text": [
      "[[[170 156  97]\n",
      "  [129 115  56]\n",
      "  [175 158 102]\n",
      "  ...\n",
      "  [214 179 123]\n",
      "  [214 179 123]\n",
      "  [213 178 122]]\n",
      "\n",
      " [[150 133  76]\n",
      "  [177 160 103]\n",
      "  [189 172 116]\n",
      "  ...\n",
      "  [214 179 123]\n",
      "  [213 178 122]\n",
      "  [213 178 122]]\n",
      "\n",
      " [[168 148  93]\n",
      "  [202 182 127]\n",
      "  [183 163 108]\n",
      "  ...\n",
      "  [214 179 123]\n",
      "  [213 178 122]\n",
      "  [213 178 122]]\n",
      "\n",
      " ...\n",
      "\n",
      " [[ 11  62   0]\n",
      "  [ 28  85  30]\n",
      "  [ 64 134 103]\n",
      "  ...\n",
      "  [ 82  73  35]\n",
      "  [ 82  73  36]\n",
      "  [ 83  74  36]]\n",
      "\n",
      " [[ 20  57   0]\n",
      "  [ 61 108  52]\n",
      "  [ 93 159 134]\n",
      "  ...\n",
      "  [ 82  73  36]\n",
      "  [ 82  73  36]\n",
      "  [ 83  74  37]]\n",
      "\n",
      " [[ 16  50   0]\n",
      "  [ 87 132  76]\n",
      "  [109 175 150]\n",
      "  ...\n",
      "  [ 82  73  36]\n",
      "  [ 82  73  36]\n",
      "  [ 83  74  37]]]\n"
     ]
    }
   ],
   "source": [
    "im_path = 'C:/Users/ADMIN/Desktop/WorkSpace/Anh/02.jpg'\n",
    "img = cv2.imread(im_path)\n",
    "print(img)\n",
    "#cv2.imshow(\"Anh thien nhien\", img)"
   ]
  },
  {
   "cell_type": "code",
   "execution_count": 5,
   "id": "83f71080-eaf8-42b6-9c2c-87b5cf9b82f3",
   "metadata": {},
   "outputs": [
    {
     "name": "stdout",
     "output_type": "stream",
     "text": [
      "(675, 1200, 3)\n",
      "675\n",
      "1200\n",
      "3\n"
     ]
    }
   ],
   "source": [
    "# Lay kich thuoc\n",
    "print(img.shape)\n",
    "x, y, z = img.shape\n",
    "print(x)\n",
    "print(y)\n",
    "print(z)"
   ]
  },
  {
   "cell_type": "code",
   "execution_count": 6,
   "id": "65698a89-4756-4aa2-8eeb-c990584d8726",
   "metadata": {},
   "outputs": [],
   "source": [
    "display('Window', img)"
   ]
  },
  {
   "cell_type": "code",
   "execution_count": 9,
   "id": "5941dbc8-efa3-4d9c-9075-cbeb22a2621f",
   "metadata": {},
   "outputs": [],
   "source": [
    "r, g, b = cv2.split(img)\n",
    "\n",
    "display('Window', img)\n",
    "display('Red', r)\n",
    "display('Green', g)\n",
    "display('Blue', b)\n"
   ]
  },
  {
   "cell_type": "code",
   "execution_count": 12,
   "id": "fbd7817d-1e1a-473e-90ec-eaada12f7e15",
   "metadata": {},
   "outputs": [],
   "source": [
    "gray_img = cv2.cvtColor(img, cv2.COLOR_BGR2GRAY)\n",
    "img_2 = cv2.cvtColor(img, cv2.COLOR_BGR2RGB)\n",
    "display('Window', img)\n",
    "display('gray_img', gray_img)\n",
    "display('img_2', img_2)"
   ]
  },
  {
   "cell_type": "code",
   "execution_count": 13,
   "id": "6d1adc33-1b6a-4513-aa0b-e5ae47005efa",
   "metadata": {},
   "outputs": [],
   "source": [
    "# Thay doi thong so cua diem anh\n",
    "height, width, z = img.shape\n",
    "quater_h = height/2\n",
    "quater_w = width/2\n",
    "\n",
    "# Green color\n",
    "green_color = (0,255,0)\n",
    "\n",
    "#copy anh\n",
    "img_2 = img.copy()\n",
    "\n",
    "#Thay doi goc 1/4 \n",
    "for y in range(int(quater_h)):\n",
    "    for x in range(int(quater_w)):\n",
    "        img_2[y, x] = green_color\n",
    "\n",
    "# hien thi\n",
    "display('img', img)\n",
    "display('img_2', img_2)\n"
   ]
  }
 ],
 "metadata": {
  "kernelspec": {
   "display_name": "Python 3 (ipykernel)",
   "language": "python",
   "name": "python3"
  },
  "language_info": {
   "codemirror_mode": {
    "name": "ipython",
    "version": 3
   },
   "file_extension": ".py",
   "mimetype": "text/x-python",
   "name": "python",
   "nbconvert_exporter": "python",
   "pygments_lexer": "ipython3",
   "version": "3.12.4"
  }
 },
 "nbformat": 4,
 "nbformat_minor": 5
}
