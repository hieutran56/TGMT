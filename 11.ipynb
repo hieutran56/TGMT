{
 "cells": [
  {
   "cell_type": "code",
   "execution_count": 1,
   "id": "bc62cbb1-6655-4f6a-a284-ea31e50e6062",
   "metadata": {},
   "outputs": [],
   "source": [
    "import numpy as np"
   ]
  },
  {
   "cell_type": "code",
   "execution_count": 2,
   "id": "34efc8de-9015-47b7-a402-66412c707948",
   "metadata": {},
   "outputs": [
    {
     "name": "stdout",
     "output_type": "stream",
     "text": [
      "[1 2 3]\n",
      "2\n"
     ]
    }
   ],
   "source": [
    "#Tao mang\n",
    "a=np.array([1, 2, 3])\n",
    "\n",
    "# In mang\n",
    "print(a)\n",
    "\n",
    "# In 1 phan tu\n",
    "element = a[1]\n",
    "print(element)"
   ]
  },
  {
   "cell_type": "code",
   "execution_count": 3,
   "id": "0e582d29-5d9e-4d89-8bbe-96508476703e",
   "metadata": {},
   "outputs": [
    {
     "name": "stdout",
     "output_type": "stream",
     "text": [
      "[[1 2 3]\n",
      " [4 5 6]\n",
      " [7 8 9]]\n",
      "6\n"
     ]
    }
   ],
   "source": [
    "# Tao mang 2 chieu\n",
    "matrix=np.array([[1, 2, 3], [4, 5, 6], [7, 8, 9]])\n",
    "\n",
    "# In mang\n",
    "print(matrix)\n",
    "\n",
    "# In 1 phan tu\n",
    "element = matrix[1, 2]\n",
    "print(element)"
   ]
  },
  {
   "cell_type": "code",
   "execution_count": 4,
   "id": "c6b4a91e-6688-4f87-ac7a-b792526cd617",
   "metadata": {},
   "outputs": [
    {
     "name": "stdout",
     "output_type": "stream",
     "text": [
      "[0. 0. 0. 0. 0.]\n",
      "[1. 1. 1. 1. 1. 1.]\n",
      "[1. 1. 1. 1. 1. 1.]\n",
      "[ 0  1  2  3  4  5  6  7  8  9 10 11 12 13 14 15 16 17 18 19 20 21 22 23\n",
      " 24 25 26 27 28 29 30 31 32 33 34 35 36 37 38 39 40 41 42 43 44 45 46 47\n",
      " 48 49 50 51 52 53 54 55 56 57 58 59 60 61 62 63 64 65 66 67 68 69 70 71\n",
      " 72 73 74 75 76 77 78 79 80 81 82 83 84 85 86 87 88 89 90 91 92 93 94 95\n",
      " 96 97 98 99]\n",
      "[ 0.  5. 10. 15. 20.]\n"
     ]
    },
    {
     "data": {
      "text/plain": [
       "array([1, 1, 1, 1, 1, 1], dtype=int64)"
      ]
     },
     "execution_count": 4,
     "metadata": {},
     "output_type": "execute_result"
    }
   ],
   "source": [
    "#Tao mang toan so 0\n",
    "a = np.zeros(5)\n",
    "print(a)\n",
    "#tao mang toan la 1\n",
    "a= np.ones(6)\n",
    "print(a)\n",
    "# Tao mang rong\n",
    "a=np.empty(6)\n",
    "print(a)\n",
    "# Tao mang tu 0-100\n",
    "a=np.arange(100)\n",
    "print(a)\n",
    "# Tao mang gom cac thanh phan cach deu nhau\n",
    "a=np.linspace(0, 20, num=5)\n",
    "print(a)\n",
    "#tao mang toan la 1\n",
    "a= np.ones(6 ,dtype=np.int64)\n",
    "a"
   ]
  },
  {
   "cell_type": "code",
   "execution_count": 5,
   "id": "57a55644-63b1-48c2-aada-5897e8546c2c",
   "metadata": {},
   "outputs": [
    {
     "name": "stdout",
     "output_type": "stream",
     "text": [
      "[12 55 64  4  5]\n",
      "[ 4  5 12 55 64]\n",
      "[64 55 12  5  4]\n",
      "[64 55 12  5  4 31]\n",
      "[64 55  5  4 31]\n"
     ]
    }
   ],
   "source": [
    "#Tao mang\n",
    "a=np.array([12, 55, 64, 4, 5])\n",
    "print(a)\n",
    "# Sap xep mang\n",
    "a=np.sort(a)\n",
    "print(a)\n",
    "# Sap xep mang nguoc\n",
    "a=np.sort(a)[::-1]\n",
    "print(a)\n",
    "# Them phan tu vao mang\n",
    "a=np.append(a, 31)\n",
    "print(a)\n",
    "# Xoa 1 phan tu trong mang\n",
    "a=np.delete(a, 2)\n",
    "print(a)"
   ]
  },
  {
   "cell_type": "code",
   "execution_count": 18,
   "id": "cd5e60ee-837b-4ecd-90df-ecd16f507975",
   "metadata": {},
   "outputs": [
    {
     "name": "stdout",
     "output_type": "stream",
     "text": [
      "[[1 2 3]\n",
      " [4 5 6]\n",
      " [7 8 9]]\n",
      "[[1 2 3]\n",
      " [5 4 6]\n",
      " [7 8 9]]\n"
     ]
    }
   ],
   "source": [
    "# Tao mang 2 chieu\n",
    "arr=np.array([[1, 2, 3], [5, 4, 6], [7, 8, 9]])\n",
    "\n",
    "Sap_xep_theo_hang=np.sort(arr, axis=1) #tang dan\n",
    "print(Sap_xep_theo_hang)\n",
    "\n",
    "Sap_xep_theo_cot=np.sort(arr, axis=0) #tang dan\n",
    "print(Sap_xep_theo_cot)"
   ]
  },
  {
   "cell_type": "code",
   "execution_count": 19,
   "id": "ca19556d-e289-4bc7-a034-190f92a004d1",
   "metadata": {},
   "outputs": [
    {
     "name": "stdout",
     "output_type": "stream",
     "text": [
      "[[3 2 1]\n",
      " [6 5 4]\n",
      " [9 8 7]]\n",
      "[[7 8 9]\n",
      " [5 4 6]\n",
      " [1 2 3]]\n"
     ]
    }
   ],
   "source": [
    "# Tao mang 2 chieu\n",
    "arr=np.array([[1, 2, 3], [5, 4, 6], [7, 8, 9]])\n",
    "\n",
    "Sap_xep_theo_hang=-np.sort(-arr, axis=1) #giam dan\n",
    "print(Sap_xep_theo_hang)\n",
    "\n",
    "Sap_xep_theo_cot=-np.sort(-arr, axis=0) #giam dan\n",
    "print(Sap_xep_theo_cot)"
   ]
  },
  {
   "cell_type": "code",
   "execution_count": 26,
   "id": "ff77c41b-5673-44c1-8852-e92f6d38b026",
   "metadata": {},
   "outputs": [
    {
     "name": "stdout",
     "output_type": "stream",
     "text": [
      "Số chiều: 2\n",
      "Kích thước: 6\n",
      "Hình dạng: (2, 3)\n"
     ]
    }
   ],
   "source": [
    "# Tạo một mảng 2D\n",
    "arr = np.array([[1, 2, 3], [4, 5, 6]])\n",
    "\n",
    "# Sử dụng các thuộc tính để lấy thông tin về mảng\n",
    "so_chieu = arr.ndim  # Số chiều (2 chiều)\n",
    "kich_thuoc = arr.size  # Kích thước (tổng số phần tử, 6)\n",
    "hinh_dang = arr.shape  # Hình dạng (số hàng x số cột, (2, 3))\n",
    "\n",
    "print(\"Số chiều:\", so_chieu)\n",
    "print(\"Kích thước:\", kich_thuoc)\n",
    "print(\"Hình dạng:\", hinh_dang)"
   ]
  },
  {
   "cell_type": "code",
   "execution_count": 27,
   "id": "a4994a81-ccb0-42d9-83c5-b7f8f1502e5f",
   "metadata": {},
   "outputs": [
    {
     "name": "stdout",
     "output_type": "stream",
     "text": [
      "[[1. 2. 3.]\n",
      " [4. 5. 6.]\n",
      " [7. 8. 9.]]\n"
     ]
    }
   ],
   "source": [
    "#Chuyen doi kieu du lieu\n",
    "arr=np.array([[1, 2, 3], [4, 5, 6], [7, 8, 9]])\n",
    "arr_float=arr.astype(float)\n",
    "print(arr_float)"
   ]
  },
  {
   "cell_type": "code",
   "execution_count": 31,
   "id": "1e053b3f-2f45-496d-9bf3-f8bfcf788e6e",
   "metadata": {},
   "outputs": [
    {
     "name": "stdout",
     "output_type": "stream",
     "text": [
      "[[12 55 64]\n",
      " [ 4  5  7]]\n"
     ]
    }
   ],
   "source": [
    "#Thay doi hinh dang cua mang\n",
    "a=np.array([12, 55, 64, 4, 5, 7])\n",
    "reshaped_a=a.reshape(2,3)\n",
    "print(reshaped_a)"
   ]
  },
  {
   "cell_type": "code",
   "execution_count": 34,
   "id": "9eeb5685-70d6-40f4-b13a-0f0f3995c140",
   "metadata": {},
   "outputs": [
    {
     "name": "stdout",
     "output_type": "stream",
     "text": [
      "[12 55 64  4  5  7]\n"
     ]
    }
   ],
   "source": [
    "reshaped_a=reshaped_a.flatten() #chuyen thanh mang 1 chieu\n",
    "print(reshaped_a)"
   ]
  },
  {
   "cell_type": "code",
   "execution_count": 36,
   "id": "320f7151-6180-4bc0-b8b9-e0d7b8838fe0",
   "metadata": {},
   "outputs": [
    {
     "name": "stdout",
     "output_type": "stream",
     "text": [
      "[2 3 4]\n",
      "[1 2 3 4]\n",
      "[4 5]\n"
     ]
    }
   ],
   "source": [
    "# Cat lat mang\n",
    "arr = np.array([1, 2, 3, 4, 5])\n",
    "\n",
    "sub_arr = arr[1:4]  \n",
    "print(sub_arr) \n",
    "\n",
    "sub_arr = arr[:-1]  \n",
    "print(sub_arr)\n",
    "\n",
    "sub_arr = arr[-2:]  \n",
    "print(sub_arr)"
   ]
  },
  {
   "cell_type": "code",
   "execution_count": 37,
   "id": "421fcb61-cda8-4a70-9dac-e9dd3da55096",
   "metadata": {},
   "outputs": [
    {
     "name": "stdout",
     "output_type": "stream",
     "text": [
      "[[1 2 3]\n",
      " [4 5 6]]\n",
      "[[1 4]\n",
      " [2 5]\n",
      " [3 6]]\n"
     ]
    }
   ],
   "source": [
    "# Chuyển vị mảng\n",
    "arr = np.array([[1, 2, 3], [4, 5, 6]])\n",
    "print(arr)\n",
    "# Để chuyển vị mảng, chúng ta có thể sử dụng .T hoặc hàm numpy.transpose().\n",
    "transposed_arr = arr.T\n",
    "print(transposed_arr)"
   ]
  },
  {
   "cell_type": "code",
   "execution_count": 39,
   "id": "e040f96e-5d34-4f8a-8359-41b19fe0d5ec",
   "metadata": {},
   "outputs": [
    {
     "name": "stdout",
     "output_type": "stream",
     "text": [
      "[1 2 3 4 5 6]\n"
     ]
    }
   ],
   "source": [
    "arr1 = np.array([1, 2, 3])\n",
    "arr2 = np.array([4, 5, 6])\n",
    "arr=np.concatenate((arr1, arr2))\n",
    "print(arr)"
   ]
  },
  {
   "cell_type": "code",
   "execution_count": 50,
   "id": "ddf9bd2a-bc4c-4414-9bdc-d18458f4e5bd",
   "metadata": {},
   "outputs": [
    {
     "name": "stdout",
     "output_type": "stream",
     "text": [
      "Tong gia tri cua mang la: 15\n",
      "Gia tri trung binh cua mang la: 3.0\n",
      "Gia tri nho nhat cua mang la: 1\n",
      "Gia tri lon nhat cua mang la: 5\n",
      "Tinh do lech chuan cua mang: 1.4142135623730951\n",
      "phuong sai cua mang: 2.0\n",
      "Tong tich chap cua mang arr1 va arr2: 32\n"
     ]
    }
   ],
   "source": [
    "arr = np.array([1, 2, 3, 4, 5])\n",
    "total=np.sum(arr)\n",
    "print(\"Tong gia tri cua mang la:\", total)\n",
    "\n",
    "average=np.mean(arr)\n",
    "print(\"Gia tri trung binh cua mang la:\", average)\n",
    "\n",
    "min_value=np.min(arr)\n",
    "max_value=np.max(arr)\n",
    "print(\"Gia tri nho nhat cua mang la:\", min_value)\n",
    "print(\"Gia tri lon nhat cua mang la:\", max_value)\n",
    "\n",
    "std_deviation=np.std(arr)\n",
    "print(\"Tinh do lech chuan cua mang:\", std_deviation)\n",
    "\n",
    "variance=np.var(arr)\n",
    "print(\"phuong sai cua mang:\", variance)\n",
    "\n",
    "arr1 = np.array([1, 2, 3])\n",
    "arr2 = np.array([4, 5, 6])\n",
    "dot_product = np.dot(arr1, arr2)\n",
    "print(\"Tong tich chap cua mang arr1 va arr2:\", dot_product)"
   ]
  }
 ],
 "metadata": {
  "kernelspec": {
   "display_name": "Python 3 (ipykernel)",
   "language": "python",
   "name": "python3"
  },
  "language_info": {
   "codemirror_mode": {
    "name": "ipython",
    "version": 3
   },
   "file_extension": ".py",
   "mimetype": "text/x-python",
   "name": "python",
   "nbconvert_exporter": "python",
   "pygments_lexer": "ipython3",
   "version": "3.12.4"
  }
 },
 "nbformat": 4,
 "nbformat_minor": 5
}
