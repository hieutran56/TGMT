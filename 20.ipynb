{
 "cells": [
  {
   "cell_type": "code",
   "execution_count": 1,
   "id": "88f4bfb3-9a22-46ed-8978-4197e8ecb6af",
   "metadata": {},
   "outputs": [],
   "source": [
    "import cv2\n",
    "import numpy as np"
   ]
  },
  {
   "cell_type": "code",
   "execution_count": 2,
   "id": "e812a25f-812d-4d0c-9a91-0395d927c6d9",
   "metadata": {},
   "outputs": [],
   "source": [
    "def display (title, img):\n",
    "    cv2.imshow(title, img)\n",
    "    # Cho 1 khoang thoi gian\n",
    "    cv2.waitKey(0)\n",
    "    # Dong window\n",
    "    cv2.destroyWindow(title)"
   ]
  },
  {
   "cell_type": "code",
   "execution_count": 3,
   "id": "96c031af-62da-4060-95d4-b95f53d7a2b6",
   "metadata": {},
   "outputs": [],
   "source": [
    "# Tao 1 anh\n",
    "img = np.zeros((400, 400, 3), dtype=np.uint8)\n",
    "display('img', img)"
   ]
  },
  {
   "cell_type": "code",
   "execution_count": 4,
   "id": "1d167f0c-0c9a-4612-a758-2970dc67af35",
   "metadata": {},
   "outputs": [],
   "source": [
    "# ve 1 duong thang\n",
    "cv2.line(img, (50, 50), (350, 50), (254,0,255), 2)\n",
    "display('img', img)"
   ]
  },
  {
   "cell_type": "code",
   "execution_count": 5,
   "id": "37b67d7d-da2c-47ef-87f1-b751a4c17243",
   "metadata": {},
   "outputs": [],
   "source": [
    "cv2.circle(img, (100, 100), 50, (0, 255, 254), -1)\n",
    "display('img', img)"
   ]
  },
  {
   "cell_type": "code",
   "execution_count": 6,
   "id": "bd9052f5-d358-408f-a93c-cfcd5b15cd26",
   "metadata": {},
   "outputs": [],
   "source": [
    "cv2.rectangle(img, (100, 100), (300, 300), (255, 0, 0), 2)\n",
    "display('img', img)"
   ]
  },
  {
   "cell_type": "code",
   "execution_count": 7,
   "id": "751a3ea6-5dc6-4aac-9c04-cc07274a9a49",
   "metadata": {},
   "outputs": [],
   "source": [
    "# ghi text tren hinh anh\n",
    "content = 'Tran Trung Hieu'\n",
    "font = cv2.FONT_HERSHEY_SIMPLEX\n",
    "cv2.putText(img, content, (10, 350), font, 0.6, (255,255,255), 2)\n",
    "display('img', img)"
   ]
  },
  {
   "cell_type": "code",
   "execution_count": null,
   "id": "d76ad1d7-dc23-4e55-be4a-403aa0cec4a0",
   "metadata": {},
   "outputs": [],
   "source": []
  }
 ],
 "metadata": {
  "kernelspec": {
   "display_name": "Python 3 (ipykernel)",
   "language": "python",
   "name": "python3"
  },
  "language_info": {
   "codemirror_mode": {
    "name": "ipython",
    "version": 3
   },
   "file_extension": ".py",
   "mimetype": "text/x-python",
   "name": "python",
   "nbconvert_exporter": "python",
   "pygments_lexer": "ipython3",
   "version": "3.12.4"
  }
 },
 "nbformat": 4,
 "nbformat_minor": 5
}
