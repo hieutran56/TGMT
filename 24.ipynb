{
 "cells": [
  {
   "cell_type": "code",
   "execution_count": 1,
   "id": "18104ccf-29a4-434e-9fcb-4116bbbcdb02",
   "metadata": {},
   "outputs": [],
   "source": [
    "import cv2\n",
    "import time"
   ]
  },
  {
   "cell_type": "code",
   "execution_count": 2,
   "id": "e9b23254-f127-4565-9bd4-7705619e974a",
   "metadata": {},
   "outputs": [],
   "source": [
    "my_video = cv2.VideoCapture(0)"
   ]
  },
  {
   "cell_type": "code",
   "execution_count": 3,
   "id": "774798bf-6ee2-455e-9a35-3a16dea482b6",
   "metadata": {},
   "outputs": [],
   "source": [
    "# Tao cua so hien thi\n",
    "cv2.namedWindow('Video player', cv2.WINDOW_NORMAL)"
   ]
  },
  {
   "cell_type": "code",
   "execution_count": 4,
   "id": "78f5d318-7624-4f0b-84e3-09937fcd2767",
   "metadata": {},
   "outputs": [],
   "source": [
    "# Tạo cửa sổ để hiển thị\n",
    "cv2.namedWindow('Video Player', cv2.WINDOW_NORMAL)\n",
    "# \n",
    "interval = 20\n",
    "count = 0"
   ]
  },
  {
   "cell_type": "code",
   "execution_count": 5,
   "id": "ec3c1745-bf0a-4e75-95ee-293114dacf11",
   "metadata": {},
   "outputs": [],
   "source": [
    "# Ghi text tren hinh anh\n",
    "font = cv2.FONT_HERSHEY_SIMPLEX\n",
    "font_color = (255, 255, 255)\n",
    "font_scale = 2\n",
    "font_thicknes = 2"
   ]
  },
  {
   "cell_type": "code",
   "execution_count": 6,
   "id": "c1c2f840-28b1-4d09-a951-475dabb42477",
   "metadata": {},
   "outputs": [
    {
     "ename": "KeyboardInterrupt",
     "evalue": "",
     "output_type": "error",
     "traceback": [
      "\u001b[1;31m---------------------------------------------------------------------------\u001b[0m",
      "\u001b[1;31mKeyboardInterrupt\u001b[0m                         Traceback (most recent call last)",
      "Cell \u001b[1;32mIn[6], line 7\u001b[0m\n\u001b[0;32m      4\u001b[0m start_time \u001b[38;5;241m=\u001b[39m time\u001b[38;5;241m.\u001b[39mtime()\n\u001b[0;32m      6\u001b[0m \u001b[38;5;66;03m# Doc 1 frame\u001b[39;00m\n\u001b[1;32m----> 7\u001b[0m ret, frame \u001b[38;5;241m=\u001b[39m my_video\u001b[38;5;241m.\u001b[39mread()\n\u001b[0;32m      9\u001b[0m \u001b[38;5;66;03m# Thoat khi khong the doc dc frame\u001b[39;00m\n\u001b[0;32m     10\u001b[0m \u001b[38;5;28;01mif\u001b[39;00m \u001b[38;5;129;01mnot\u001b[39;00m ret:\n",
      "\u001b[1;31mKeyboardInterrupt\u001b[0m: "
     ]
    }
   ],
   "source": [
    "# Hien thi tung khung anh\n",
    "while True:\n",
    "    # Thoi gian truoc khi doc\n",
    "    start_time = time.time()\n",
    "    \n",
    "    # Doc 1 frame\n",
    "    ret, frame = my_video.read()\n",
    "\n",
    "    # Thoat khi khong the doc dc frame\n",
    "    if not ret:\n",
    "        break\n",
    "        \n",
    "    # Tăng count + 1\n",
    "    count = count + 1\n",
    "    \n",
    "    # Định kỳ lưu ảnh xuống\n",
    "    if(count%interval==0):\n",
    "        cv2.imwrite(f'./1721031546_Tran Trung Hieu/image_{count}.jpg', frame)\n",
    "\n",
    "    # Thoi gian truoc khi doc\n",
    "    end_time = time.time()\n",
    "\n",
    "    # Tinh FPS\n",
    "    fps = 1/(end_time-start_time)\n",
    "\n",
    "    # Ghi so luong FPS\n",
    "    cv2.putText(frame, f'FPS: {fps:.2f}', (100, 100), font, font_scale, font_color, font_thicknes)\n",
    "\n",
    "    # Hien thi\n",
    "    cv2.imshow('Video player', frame)\n",
    "\n",
    "    if(cv2.waitKey(10)==ord('q')):\n",
    "        break"
   ]
  },
  {
   "cell_type": "code",
   "execution_count": null,
   "id": "84e37297-6cb7-4895-9e8b-8c9a760d4cd7",
   "metadata": {},
   "outputs": [],
   "source": [
    "my_video.release\n",
    "cv2.destroyAllWindows()"
   ]
  },
  {
   "cell_type": "code",
   "execution_count": null,
   "id": "ac5cb2b3-2668-488c-a3aa-8b9b8c6943ee",
   "metadata": {},
   "outputs": [],
   "source": []
  }
 ],
 "metadata": {
  "kernelspec": {
   "display_name": "Python 3 (ipykernel)",
   "language": "python",
   "name": "python3"
  },
  "language_info": {
   "codemirror_mode": {
    "name": "ipython",
    "version": 3
   },
   "file_extension": ".py",
   "mimetype": "text/x-python",
   "name": "python",
   "nbconvert_exporter": "python",
   "pygments_lexer": "ipython3",
   "version": "3.12.4"
  }
 },
 "nbformat": 4,
 "nbformat_minor": 5
}
