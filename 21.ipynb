{
 "cells": [
  {
   "cell_type": "code",
   "execution_count": 1,
   "id": "18104ccf-29a4-434e-9fcb-4116bbbcdb02",
   "metadata": {},
   "outputs": [],
   "source": [
    "import cv2\n",
    "import time"
   ]
  },
  {
   "cell_type": "code",
   "execution_count": 2,
   "id": "e9b23254-f127-4565-9bd4-7705619e974a",
   "metadata": {},
   "outputs": [],
   "source": [
    "my_video = cv2.VideoCapture('C:/Users/ADMIN/Desktop/WorkSpace/Anh/07.mp4')"
   ]
  },
  {
   "cell_type": "code",
   "execution_count": 3,
   "id": "774798bf-6ee2-455e-9a35-3a16dea482b6",
   "metadata": {},
   "outputs": [],
   "source": [
    "# Tao cua so hien thi\n",
    "cv2.namedWindow('Video player', cv2.WINDOW_NORMAL)"
   ]
  },
  {
   "cell_type": "code",
   "execution_count": 4,
   "id": "ec3c1745-bf0a-4e75-95ee-293114dacf11",
   "metadata": {},
   "outputs": [],
   "source": [
    "# Ghi text tren hinh anh\n",
    "font = cv2.FONT_HERSHEY_SIMPLEX\n",
    "font_color = (255, 255, 255)\n",
    "font_scale = 2\n",
    "font_thicknes = 2"
   ]
  },
  {
   "cell_type": "code",
   "execution_count": 5,
   "id": "c1c2f840-28b1-4d09-a951-475dabb42477",
   "metadata": {},
   "outputs": [],
   "source": [
    "# Hien thi tung khung anh\n",
    "while True:\n",
    "    # Thoi gian truoc khi doc\n",
    "    start_time = time.time()\n",
    "    \n",
    "    # Doc 1 frame\n",
    "    ret, frame = my_video.read()\n",
    "\n",
    "    # Thoat khi khong the doc dc frame\n",
    "    if not ret:\n",
    "        break\n",
    "\n",
    "    # Thoi gian truoc khi doc\n",
    "    end_time = time.time()\n",
    "\n",
    "    # Tinh FPS\n",
    "    fps = 1/(end_time-start_time)\n",
    "\n",
    "    # Ghi so luong FPS\n",
    "    cv2.putText(frame, f'FPS: {fps:.2f}', (100, 100), font, font_scale, font_color, font_thicknes)\n",
    "\n",
    "    # Hien thi\n",
    "    cv2.imshow('Video player', frame)\n",
    "\n",
    "    if(cv2.waitKey(10)==ord('q')):\n",
    "        break"
   ]
  },
  {
   "cell_type": "code",
   "execution_count": 6,
   "id": "84e37297-6cb7-4895-9e8b-8c9a760d4cd7",
   "metadata": {},
   "outputs": [],
   "source": [
    "my_video.release\n",
    "cv2.destroyAllWindows()"
   ]
  }
 ],
 "metadata": {
  "kernelspec": {
   "display_name": "Python 3 (ipykernel)",
   "language": "python",
   "name": "python3"
  },
  "language_info": {
   "codemirror_mode": {
    "name": "ipython",
    "version": 3
   },
   "file_extension": ".py",
   "mimetype": "text/x-python",
   "name": "python",
   "nbconvert_exporter": "python",
   "pygments_lexer": "ipython3",
   "version": "3.12.4"
  }
 },
 "nbformat": 4,
 "nbformat_minor": 5
}
