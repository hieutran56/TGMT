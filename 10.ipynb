{
 "cells": [
  {
   "cell_type": "code",
   "execution_count": 1,
   "id": "848d46e7-d038-4e16-a0ca-8ff98a2a7aa4",
   "metadata": {},
   "outputs": [],
   "source": [
    "from PIL import Image\n",
    "import matplotlib.pyplot as plt"
   ]
  },
  {
   "cell_type": "code",
   "execution_count": 2,
   "id": "0abe0889-d490-4148-99ac-a944021c77ab",
   "metadata": {},
   "outputs": [
    {
     "name": "stdout",
     "output_type": "stream",
     "text": [
      "[(276.2741935483871, 114.41935483870952), (653.6935483870968, 207.32258064516122), (885.9516129032259, 93.1290322580644), (924.6612903225807, 294.4193548387095), (479.5000000000001, 356.3548387096773)]\n"
     ]
    }
   ],
   "source": [
    "# Duong dan anh\n",
    "my_path = 'C:/Users/ADMIN/Desktop/WorkSpace/Anh/02.jpg'\n",
    "\n",
    "# Doc anh\n",
    "im = Image.open(my_path)\n",
    "\n",
    "# Chuyen doi backend\n",
    "plt.switch_backend('tkagg')\n",
    "\n",
    "# Hien thi hinh\n",
    "plt.imshow(im)\n",
    "plt.title(\"Click on the image to select point\")\n",
    "\n",
    "# Su dung ham ginput de chon diem tren anh\n",
    "points=plt.ginput(5)\n",
    "print(points)\n",
    "plt.show()"
   ]
  },
  {
   "cell_type": "code",
   "execution_count": 3,
   "id": "8d056cb5-12c1-4a26-9b96-1f4e32d70573",
   "metadata": {},
   "outputs": [],
   "source": [
    "# Ve lai cac diem da chon = dau * mau do\n",
    "plt.close()\n",
    "\n",
    "# Ve lai\n",
    "plt.imshow(im)\n",
    "for point in points:\n",
    "    x, y = point \n",
    "    plt.plot(x,y, 'r*')\n",
    "plt.show()"
   ]
  },
  {
   "cell_type": "code",
   "execution_count": null,
   "id": "0ad582b6-a6b3-4d0f-890b-03a8561e963c",
   "metadata": {},
   "outputs": [],
   "source": []
  }
 ],
 "metadata": {
  "kernelspec": {
   "display_name": "Python 3 (ipykernel)",
   "language": "python",
   "name": "python3"
  },
  "language_info": {
   "codemirror_mode": {
    "name": "ipython",
    "version": 3
   },
   "file_extension": ".py",
   "mimetype": "text/x-python",
   "name": "python",
   "nbconvert_exporter": "python",
   "pygments_lexer": "ipython3",
   "version": "3.12.4"
  }
 },
 "nbformat": 4,
 "nbformat_minor": 5
}
